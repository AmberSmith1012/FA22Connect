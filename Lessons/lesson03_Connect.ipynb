{
 "cells": [
  {
   "cell_type": "code",
   "execution_count": 1,
   "metadata": {},
   "outputs": [],
   "source": [
    "from datascience import *\n",
    "import numpy as np\n",
    "\n",
    "%matplotlib inline\n",
    "import matplotlib.pyplot as plots\n",
    "plots.style.use('fivethirtyeight')"
   ]
  },
  {
   "cell_type": "markdown",
   "metadata": {
    "tags": []
   },
   "source": [
    "## Words of Caution ##\n",
    "- Remember to run the cell above. It's for setting up the environment so you can have access to what's needed for this lecture. For now, don't worry about what it means: we'll learn more about what's inside of it in the next few lectures.\n",
    "- Data science is not just about code, so please don't go over this notebook by itself. Have the relevant textbook sections or lecture video at hand so that you can go over the discussion along with the code. Thank you! "
   ]
  },
  {
   "cell_type": "markdown",
   "metadata": {},
   "source": [
    "## Python ##"
   ]
  },
  {
   "cell_type": "code",
   "execution_count": 2,
   "metadata": {
    "scrolled": true
   },
   "outputs": [
    {
     "data": {
      "text/plain": [
       "11"
      ]
     },
     "execution_count": 2,
     "metadata": {},
     "output_type": "execute_result"
    }
   ],
   "source": [
    "# add 2 and 9\n",
    "2 + 9"
   ]
  },
  {
   "cell_type": "code",
   "execution_count": 3,
   "metadata": {},
   "outputs": [
    {
     "data": {
      "text/plain": [
       "18"
      ]
     },
     "execution_count": 3,
     "metadata": {},
     "output_type": "execute_result"
    }
   ],
   "source": [
    "# multiply 2 and 9\n",
    "2*(9)"
   ]
  },
  {
   "cell_type": "code",
   "execution_count": 4,
   "metadata": {},
   "outputs": [
    {
     "data": {
      "text/plain": [
       "0.2222222222222222"
      ]
     },
     "execution_count": 4,
     "metadata": {},
     "output_type": "execute_result"
    }
   ],
   "source": [
    "# divide 2 by 9\n",
    "2 / 9"
   ]
  },
  {
   "cell_type": "code",
   "execution_count": 5,
   "metadata": {},
   "outputs": [
    {
     "data": {
      "text/plain": [
       "29"
      ]
     },
     "execution_count": 5,
     "metadata": {},
     "output_type": "execute_result"
    }
   ],
   "source": [
    "# add 2 and 3 then multiply by 9\n",
    "2+3*9"
   ]
  },
  {
   "cell_type": "code",
   "execution_count": 6,
   "metadata": {},
   "outputs": [
    {
     "data": {
      "text/plain": [
       "45"
      ]
     },
     "execution_count": 6,
     "metadata": {},
     "output_type": "execute_result"
    }
   ],
   "source": [
    "# add 2 and 3 then multiply the sum by 9\n",
    "(2+3)*9"
   ]
  },
  {
   "cell_type": "code",
   "execution_count": 7,
   "metadata": {},
   "outputs": [
    {
     "data": {
      "text/plain": [
       "16"
      ]
     },
     "execution_count": 7,
     "metadata": {},
     "output_type": "execute_result"
    }
   ],
   "source": [
    "# raise 2 to the power of 4\n",
    "# 2**4\n",
    "pow(2,4)"
   ]
  },
  {
   "cell_type": "code",
   "execution_count": 8,
   "metadata": {},
   "outputs": [
    {
     "data": {
      "text/plain": [
       "'hello'"
      ]
     },
     "execution_count": 8,
     "metadata": {},
     "output_type": "execute_result"
    }
   ],
   "source": [
    "# run this cell\n",
    "\"hello\""
   ]
  },
  {
   "cell_type": "markdown",
   "metadata": {},
   "source": [
    "## Names ##"
   ]
  },
  {
   "cell_type": "code",
   "execution_count": 9,
   "metadata": {},
   "outputs": [],
   "source": [
    "# assign 4 to a\n",
    "a = 4"
   ]
  },
  {
   "cell_type": "code",
   "execution_count": 10,
   "metadata": {},
   "outputs": [
    {
     "data": {
      "text/plain": [
       "4"
      ]
     },
     "execution_count": 10,
     "metadata": {},
     "output_type": "execute_result"
    }
   ],
   "source": [
    "# print a\n",
    "a"
   ]
  },
  {
   "cell_type": "code",
   "execution_count": 11,
   "metadata": {},
   "outputs": [],
   "source": [
    "# assign 9 to b\n",
    "b = 9"
   ]
  },
  {
   "cell_type": "code",
   "execution_count": 12,
   "metadata": {},
   "outputs": [
    {
     "data": {
      "text/plain": [
       "9"
      ]
     },
     "execution_count": 12,
     "metadata": {},
     "output_type": "execute_result"
    }
   ],
   "source": [
    "# print b\n",
    "b"
   ]
  },
  {
   "cell_type": "code",
   "execution_count": 13,
   "metadata": {},
   "outputs": [
    {
     "data": {
      "text/plain": [
       "12"
      ]
     },
     "execution_count": 13,
     "metadata": {},
     "output_type": "execute_result"
    }
   ],
   "source": [
    "# multiply a by 3\n",
    "a*3"
   ]
  },
  {
   "cell_type": "code",
   "execution_count": 14,
   "metadata": {},
   "outputs": [],
   "source": [
    "# assign the sum of a and b to total\n",
    "total = a + b "
   ]
  },
  {
   "cell_type": "code",
   "execution_count": 15,
   "metadata": {
    "scrolled": true
   },
   "outputs": [
    {
     "data": {
      "text/plain": [
       "13"
      ]
     },
     "execution_count": 15,
     "metadata": {},
     "output_type": "execute_result"
    }
   ],
   "source": [
    "# print total\n",
    "total"
   ]
  },
  {
   "cell_type": "code",
   "execution_count": 16,
   "metadata": {},
   "outputs": [],
   "source": [
    "# assign 10 to a\n",
    "a = 10"
   ]
  },
  {
   "cell_type": "code",
   "execution_count": 17,
   "metadata": {},
   "outputs": [
    {
     "data": {
      "text/plain": [
       "13"
      ]
     },
     "execution_count": 17,
     "metadata": {},
     "output_type": "execute_result"
    }
   ],
   "source": [
    "# print total\n",
    "total"
   ]
  },
  {
   "cell_type": "code",
   "execution_count": 18,
   "metadata": {},
   "outputs": [],
   "source": [
    "# assign the sum of a and b to total\n",
    "total = a + b"
   ]
  },
  {
   "cell_type": "code",
   "execution_count": 19,
   "metadata": {},
   "outputs": [
    {
     "data": {
      "text/plain": [
       "19"
      ]
     },
     "execution_count": 19,
     "metadata": {},
     "output_type": "execute_result"
    }
   ],
   "source": [
    "# print total\n",
    "total"
   ]
  },
  {
   "cell_type": "code",
   "execution_count": 20,
   "metadata": {},
   "outputs": [
    {
     "data": {
      "text/plain": [
       "'total'"
      ]
     },
     "execution_count": 20,
     "metadata": {},
     "output_type": "execute_result"
    }
   ],
   "source": [
    "# run this cell\n",
    "'total'"
   ]
  },
  {
   "cell_type": "markdown",
   "metadata": {},
   "source": [
    "### Why Names?"
   ]
  },
  {
   "cell_type": "code",
   "execution_count": 21,
   "metadata": {},
   "outputs": [],
   "source": [
    "# assign the number of hours in a work week to hours_per_week\n",
    "# assign the number of weeks in a year to week_per_year\n",
    "hours_per_week = 8 * 5\n",
    "weeks_per_year = 52"
   ]
  },
  {
   "cell_type": "code",
   "execution_count": 22,
   "metadata": {},
   "outputs": [],
   "source": [
    "# assign the product of the number of hours in a work week and the number\n",
    "# of weeks per year to hours_per_year (DO NOT USE NUMBERS)\n",
    "hours_per_year = hours_per_week * weeks_per_year"
   ]
  },
  {
   "cell_type": "code",
   "execution_count": 23,
   "metadata": {},
   "outputs": [
    {
     "data": {
      "text/plain": [
       "2080"
      ]
     },
     "execution_count": 23,
     "metadata": {},
     "output_type": "execute_result"
    }
   ],
   "source": [
    "# Print hours_per_year\n",
    "hours_per_year"
   ]
  },
  {
   "cell_type": "code",
   "execution_count": 24,
   "metadata": {},
   "outputs": [],
   "source": [
    "# assign the minimum wage in NC to nc_hourly_minimum_wage\n",
    "nc_hourly_minimum_wage = 7.25"
   ]
  },
  {
   "cell_type": "code",
   "execution_count": 25,
   "metadata": {},
   "outputs": [
    {
     "data": {
      "text/plain": [
       "290.0"
      ]
     },
     "execution_count": 25,
     "metadata": {},
     "output_type": "execute_result"
    }
   ],
   "source": [
    "# assign the number of hours per week times minimum wage to weekly_wages\n",
    "# print weekly_wages\n",
    "weekly_wages = hours_per_week * nc_hourly_minimum_wage\n",
    "weekly_wages"
   ]
  },
  {
   "cell_type": "code",
   "execution_count": 26,
   "metadata": {},
   "outputs": [
    {
     "data": {
      "text/plain": [
       "15080.0"
      ]
     },
     "execution_count": 26,
     "metadata": {},
     "output_type": "execute_result"
    }
   ],
   "source": [
    "# assign the number of hours worked in a year times the minimum wage to \n",
    "# yearly_wages\n",
    "# print yearly_wages\n",
    "yearly_wages = hours_per_year * nc_hourly_minimum_wage\n",
    "yearly_wages"
   ]
  },
  {
   "cell_type": "code",
   "execution_count": 27,
   "metadata": {},
   "outputs": [
    {
     "data": {
      "text/plain": [
       "290.0"
      ]
     },
     "execution_count": 27,
     "metadata": {},
     "output_type": "execute_result"
    }
   ],
   "source": [
    "# determine the weekly wage without using assignment statements\n",
    "7.25*40"
   ]
  },
  {
   "cell_type": "code",
   "execution_count": 28,
   "metadata": {},
   "outputs": [
    {
     "data": {
      "text/plain": [
       "15080.0"
      ]
     },
     "execution_count": 28,
     "metadata": {},
     "output_type": "execute_result"
    }
   ],
   "source": [
    "# determine the yearly wages without using assignment statements\n",
    "7.25*40*52"
   ]
  },
  {
   "cell_type": "markdown",
   "metadata": {},
   "source": [
    "## Functions and Call Expressions"
   ]
  },
  {
   "cell_type": "code",
   "execution_count": 29,
   "metadata": {},
   "outputs": [
    {
     "data": {
      "text/plain": [
       "5"
      ]
     },
     "execution_count": 29,
     "metadata": {},
     "output_type": "execute_result"
    }
   ],
   "source": [
    "# find the absolute value of -5\n",
    "abs(-5)"
   ]
  },
  {
   "cell_type": "code",
   "execution_count": 30,
   "metadata": {},
   "outputs": [
    {
     "data": {
      "text/plain": [
       "2"
      ]
     },
     "execution_count": 30,
     "metadata": {},
     "output_type": "execute_result"
    }
   ],
   "source": [
    "# find the absolute value of 1 minus 3\n",
    "abs(1-3)"
   ]
  },
  {
   "cell_type": "code",
   "execution_count": 31,
   "metadata": {},
   "outputs": [
    {
     "data": {
      "text/plain": [
       "5"
      ]
     },
     "execution_count": 31,
     "metadata": {},
     "output_type": "execute_result"
    }
   ],
   "source": [
    "# assign 52 to day_temp\n",
    "# assign 47 to night_temp\n",
    "# find the absolute value of the difference between the day_temp and night_temp\n",
    "day_temp = 52\n",
    "night_temp = 47\n",
    "abs(day_temp - night_temp)"
   ]
  },
  {
   "cell_type": "code",
   "execution_count": 32,
   "metadata": {},
   "outputs": [
    {
     "data": {
      "text/plain": [
       "-5280"
      ]
     },
     "execution_count": 32,
     "metadata": {},
     "output_type": "execute_result"
    }
   ],
   "source": [
    "# use the min function to find the minimum among the following numbers\n",
    "# 14, 15, -5280, -3, 123456\n",
    "min(14, 15, -5280, -3, 123456)"
   ]
  },
  {
   "cell_type": "code",
   "execution_count": 37,
   "metadata": {},
   "outputs": [
    {
     "data": {
      "text/plain": [
       "123"
      ]
     },
     "execution_count": 37,
     "metadata": {},
     "output_type": "execute_result"
    }
   ],
   "source": [
    "# use the round function to round 123.456\n",
    "round(123.456)"
   ]
  },
  {
   "cell_type": "code",
   "execution_count": 40,
   "metadata": {},
   "outputs": [
    {
     "data": {
      "text/plain": [
       "123.5"
      ]
     },
     "execution_count": 40,
     "metadata": {},
     "output_type": "execute_result"
    }
   ],
   "source": [
    "# use the round function to round 123.456 to 1 decimal place\n",
    "round(123.456, 1)"
   ]
  },
  {
   "cell_type": "code",
   "execution_count": 42,
   "metadata": {},
   "outputs": [
    {
     "data": {
      "text/plain": [
       "123.4568"
      ]
     },
     "execution_count": 42,
     "metadata": {},
     "output_type": "execute_result"
    }
   ],
   "source": [
    "# use the round function to round 123.45678901 to 4 decimal places\n",
    "# use ndigits=\n",
    "round(123.45678901, ndigits=4)"
   ]
  },
  {
   "cell_type": "markdown",
   "metadata": {},
   "source": [
    "## Tables ##"
   ]
  },
  {
   "cell_type": "code",
   "execution_count": 43,
   "metadata": {},
   "outputs": [
    {
     "data": {
      "text/html": [
       "<table border=\"1\" class=\"dataframe\">\n",
       "    <thead>\n",
       "        <tr>\n",
       "            <th>Flavor</th> <th>Color</th> <th>Price</th>\n",
       "        </tr>\n",
       "    </thead>\n",
       "    <tbody>\n",
       "        <tr>\n",
       "            <td>strawberry</td> <td>pink       </td> <td>3.55 </td>\n",
       "        </tr>\n",
       "        <tr>\n",
       "            <td>chocolate </td> <td>light brown</td> <td>4.75 </td>\n",
       "        </tr>\n",
       "        <tr>\n",
       "            <td>chocolate </td> <td>dark brown </td> <td>5.25 </td>\n",
       "        </tr>\n",
       "        <tr>\n",
       "            <td>strawberry</td> <td>pink       </td> <td>5.25 </td>\n",
       "        </tr>\n",
       "        <tr>\n",
       "            <td>chocolate </td> <td>dark brown </td> <td>5.25 </td>\n",
       "        </tr>\n",
       "        <tr>\n",
       "            <td>bubblegum </td> <td>pink       </td> <td>4.75 </td>\n",
       "        </tr>\n",
       "    </tbody>\n",
       "</table>"
      ],
      "text/plain": [
       "Flavor     | Color       | Price\n",
       "strawberry | pink        | 3.55\n",
       "chocolate  | light brown | 4.75\n",
       "chocolate  | dark brown  | 5.25\n",
       "strawberry | pink        | 5.25\n",
       "chocolate  | dark brown  | 5.25\n",
       "bubblegum  | pink        | 4.75"
      ]
     },
     "execution_count": 43,
     "metadata": {},
     "output_type": "execute_result"
    }
   ],
   "source": [
    "# creating a table called cones using the read_table function\n",
    "cones = Table.read_table('data/cones.csv')\n",
    "cones"
   ]
  },
  {
   "cell_type": "code",
   "execution_count": 44,
   "metadata": {},
   "outputs": [
    {
     "data": {
      "text/html": [
       "<table border=\"1\" class=\"dataframe\">\n",
       "    <thead>\n",
       "        <tr>\n",
       "            <th>Flavor</th> <th>Color</th> <th>Price</th>\n",
       "        </tr>\n",
       "    </thead>\n",
       "    <tbody>\n",
       "        <tr>\n",
       "            <td>strawberry</td> <td>pink       </td> <td>3.55 </td>\n",
       "        </tr>\n",
       "        <tr>\n",
       "            <td>chocolate </td> <td>light brown</td> <td>4.75 </td>\n",
       "        </tr>\n",
       "        <tr>\n",
       "            <td>chocolate </td> <td>dark brown </td> <td>5.25 </td>\n",
       "        </tr>\n",
       "    </tbody>\n",
       "</table>\n",
       "<p>... (3 rows omitted)</p>"
      ],
      "text/plain": [
       "<IPython.core.display.HTML object>"
      ]
     },
     "metadata": {},
     "output_type": "display_data"
    }
   ],
   "source": [
    "cones.show(3)"
   ]
  },
  {
   "cell_type": "code",
   "execution_count": 45,
   "metadata": {},
   "outputs": [
    {
     "data": {
      "text/html": [
       "<table border=\"1\" class=\"dataframe\">\n",
       "    <thead>\n",
       "        <tr>\n",
       "            <th>Flavor</th> <th>Color</th> <th>Price</th>\n",
       "        </tr>\n",
       "    </thead>\n",
       "    <tbody>\n",
       "        <tr>\n",
       "            <td>strawberry</td> <td>pink       </td> <td>3.55 </td>\n",
       "        </tr>\n",
       "        <tr>\n",
       "            <td>chocolate </td> <td>light brown</td> <td>4.75 </td>\n",
       "        </tr>\n",
       "        <tr>\n",
       "            <td>chocolate </td> <td>dark brown </td> <td>5.25 </td>\n",
       "        </tr>\n",
       "        <tr>\n",
       "            <td>strawberry</td> <td>pink       </td> <td>5.25 </td>\n",
       "        </tr>\n",
       "        <tr>\n",
       "            <td>chocolate </td> <td>dark brown </td> <td>5.25 </td>\n",
       "        </tr>\n",
       "        <tr>\n",
       "            <td>bubblegum </td> <td>pink       </td> <td>4.75 </td>\n",
       "        </tr>\n",
       "    </tbody>\n",
       "</table>"
      ],
      "text/plain": [
       "<IPython.core.display.HTML object>"
      ]
     },
     "metadata": {},
     "output_type": "display_data"
    }
   ],
   "source": [
    "cones.show()"
   ]
  },
  {
   "cell_type": "code",
   "execution_count": 47,
   "metadata": {},
   "outputs": [
    {
     "data": {
      "text/html": [
       "<table border=\"1\" class=\"dataframe\">\n",
       "    <thead>\n",
       "        <tr>\n",
       "            <th>Flavor</th>\n",
       "        </tr>\n",
       "    </thead>\n",
       "    <tbody>\n",
       "        <tr>\n",
       "            <td>strawberry</td>\n",
       "        </tr>\n",
       "        <tr>\n",
       "            <td>chocolate </td>\n",
       "        </tr>\n",
       "        <tr>\n",
       "            <td>chocolate </td>\n",
       "        </tr>\n",
       "        <tr>\n",
       "            <td>strawberry</td>\n",
       "        </tr>\n",
       "        <tr>\n",
       "            <td>chocolate </td>\n",
       "        </tr>\n",
       "        <tr>\n",
       "            <td>bubblegum </td>\n",
       "        </tr>\n",
       "    </tbody>\n",
       "</table>"
      ],
      "text/plain": [
       "Flavor\n",
       "strawberry\n",
       "chocolate\n",
       "chocolate\n",
       "strawberry\n",
       "chocolate\n",
       "bubblegum"
      ]
     },
     "execution_count": 47,
     "metadata": {},
     "output_type": "execute_result"
    }
   ],
   "source": [
    "# display only the Flavor column of the table cones\n",
    "cones.select('Flavor')"
   ]
  },
  {
   "cell_type": "code",
   "execution_count": 49,
   "metadata": {},
   "outputs": [
    {
     "data": {
      "text/html": [
       "<table border=\"1\" class=\"dataframe\">\n",
       "    <thead>\n",
       "        <tr>\n",
       "            <th>Flavor</th> <th>Price</th>\n",
       "        </tr>\n",
       "    </thead>\n",
       "    <tbody>\n",
       "        <tr>\n",
       "            <td>strawberry</td> <td>3.55 </td>\n",
       "        </tr>\n",
       "        <tr>\n",
       "            <td>chocolate </td> <td>4.75 </td>\n",
       "        </tr>\n",
       "        <tr>\n",
       "            <td>chocolate </td> <td>5.25 </td>\n",
       "        </tr>\n",
       "        <tr>\n",
       "            <td>strawberry</td> <td>5.25 </td>\n",
       "        </tr>\n",
       "        <tr>\n",
       "            <td>chocolate </td> <td>5.25 </td>\n",
       "        </tr>\n",
       "        <tr>\n",
       "            <td>bubblegum </td> <td>4.75 </td>\n",
       "        </tr>\n",
       "    </tbody>\n",
       "</table>"
      ],
      "text/plain": [
       "Flavor     | Price\n",
       "strawberry | 3.55\n",
       "chocolate  | 4.75\n",
       "chocolate  | 5.25\n",
       "strawberry | 5.25\n",
       "chocolate  | 5.25\n",
       "bubblegum  | 4.75"
      ]
     },
     "execution_count": 49,
     "metadata": {},
     "output_type": "execute_result"
    }
   ],
   "source": [
    "# display the Flavor and Price columns of the table cones\n",
    "#cones.select('Flavor', 'Price')\n",
    "cones.select(0, 2)"
   ]
  },
  {
   "cell_type": "code",
   "execution_count": 50,
   "metadata": {},
   "outputs": [
    {
     "ename": "NameError",
     "evalue": "name 'Flavor' is not defined",
     "output_type": "error",
     "traceback": [
      "\u001b[0;31m---------------------------------------------------------------------------\u001b[0m",
      "\u001b[0;31mNameError\u001b[0m                                 Traceback (most recent call last)",
      "Input \u001b[0;32mIn [50]\u001b[0m, in \u001b[0;36m<cell line: 2>\u001b[0;34m()\u001b[0m\n\u001b[1;32m      1\u001b[0m \u001b[38;5;66;03m# will this code work?\u001b[39;00m\n\u001b[0;32m----> 2\u001b[0m cones\u001b[38;5;241m.\u001b[39mselect(\u001b[43mFlavor\u001b[49m, \u001b[38;5;124m'\u001b[39m\u001b[38;5;124mPrice\u001b[39m\u001b[38;5;124m'\u001b[39m)\n",
      "\u001b[0;31mNameError\u001b[0m: name 'Flavor' is not defined"
     ]
    }
   ],
   "source": [
    "# will this code work?\n",
    "cones.select(Flavor, 'Price')"
   ]
  },
  {
   "cell_type": "code",
   "execution_count": 52,
   "metadata": {},
   "outputs": [
    {
     "data": {
      "text/html": [
       "<table border=\"1\" class=\"dataframe\">\n",
       "    <thead>\n",
       "        <tr>\n",
       "            <th>Flavor</th> <th>Color</th>\n",
       "        </tr>\n",
       "    </thead>\n",
       "    <tbody>\n",
       "        <tr>\n",
       "            <td>strawberry</td> <td>pink       </td>\n",
       "        </tr>\n",
       "        <tr>\n",
       "            <td>chocolate </td> <td>light brown</td>\n",
       "        </tr>\n",
       "        <tr>\n",
       "            <td>chocolate </td> <td>dark brown </td>\n",
       "        </tr>\n",
       "        <tr>\n",
       "            <td>strawberry</td> <td>pink       </td>\n",
       "        </tr>\n",
       "        <tr>\n",
       "            <td>chocolate </td> <td>dark brown </td>\n",
       "        </tr>\n",
       "        <tr>\n",
       "            <td>bubblegum </td> <td>pink       </td>\n",
       "        </tr>\n",
       "    </tbody>\n",
       "</table>"
      ],
      "text/plain": [
       "Flavor     | Color\n",
       "strawberry | pink\n",
       "chocolate  | light brown\n",
       "chocolate  | dark brown\n",
       "strawberry | pink\n",
       "chocolate  | dark brown\n",
       "bubblegum  | pink"
      ]
     },
     "execution_count": 52,
     "metadata": {},
     "output_type": "execute_result"
    }
   ],
   "source": [
    "# drop the column Price\n",
    "cones.drop('Price')"
   ]
  },
  {
   "cell_type": "code",
   "execution_count": 53,
   "metadata": {},
   "outputs": [
    {
     "data": {
      "text/html": [
       "<table border=\"1\" class=\"dataframe\">\n",
       "    <thead>\n",
       "        <tr>\n",
       "            <th>Flavor</th> <th>Color</th> <th>Price</th>\n",
       "        </tr>\n",
       "    </thead>\n",
       "    <tbody>\n",
       "        <tr>\n",
       "            <td>strawberry</td> <td>pink       </td> <td>3.55 </td>\n",
       "        </tr>\n",
       "        <tr>\n",
       "            <td>chocolate </td> <td>light brown</td> <td>4.75 </td>\n",
       "        </tr>\n",
       "        <tr>\n",
       "            <td>chocolate </td> <td>dark brown </td> <td>5.25 </td>\n",
       "        </tr>\n",
       "        <tr>\n",
       "            <td>strawberry</td> <td>pink       </td> <td>5.25 </td>\n",
       "        </tr>\n",
       "        <tr>\n",
       "            <td>chocolate </td> <td>dark brown </td> <td>5.25 </td>\n",
       "        </tr>\n",
       "        <tr>\n",
       "            <td>bubblegum </td> <td>pink       </td> <td>4.75 </td>\n",
       "        </tr>\n",
       "    </tbody>\n",
       "</table>"
      ],
      "text/plain": [
       "Flavor     | Color       | Price\n",
       "strawberry | pink        | 3.55\n",
       "chocolate  | light brown | 4.75\n",
       "chocolate  | dark brown  | 5.25\n",
       "strawberry | pink        | 5.25\n",
       "chocolate  | dark brown  | 5.25\n",
       "bubblegum  | pink        | 4.75"
      ]
     },
     "execution_count": 53,
     "metadata": {},
     "output_type": "execute_result"
    }
   ],
   "source": [
    "# run this cell to see if the original cones table changes\n",
    "cones"
   ]
  },
  {
   "cell_type": "code",
   "execution_count": 54,
   "metadata": {},
   "outputs": [
    {
     "data": {
      "text/html": [
       "<table border=\"1\" class=\"dataframe\">\n",
       "    <thead>\n",
       "        <tr>\n",
       "            <th>Flavor</th> <th>Color</th>\n",
       "        </tr>\n",
       "    </thead>\n",
       "    <tbody>\n",
       "        <tr>\n",
       "            <td>strawberry</td> <td>pink       </td>\n",
       "        </tr>\n",
       "        <tr>\n",
       "            <td>chocolate </td> <td>light brown</td>\n",
       "        </tr>\n",
       "        <tr>\n",
       "            <td>chocolate </td> <td>dark brown </td>\n",
       "        </tr>\n",
       "        <tr>\n",
       "            <td>strawberry</td> <td>pink       </td>\n",
       "        </tr>\n",
       "        <tr>\n",
       "            <td>chocolate </td> <td>dark brown </td>\n",
       "        </tr>\n",
       "        <tr>\n",
       "            <td>bubblegum </td> <td>pink       </td>\n",
       "        </tr>\n",
       "    </tbody>\n",
       "</table>"
      ],
      "text/plain": [
       "Flavor     | Color\n",
       "strawberry | pink\n",
       "chocolate  | light brown\n",
       "chocolate  | dark brown\n",
       "strawberry | pink\n",
       "chocolate  | dark brown\n",
       "bubblegum  | pink"
      ]
     },
     "execution_count": 54,
     "metadata": {},
     "output_type": "execute_result"
    }
   ],
   "source": [
    "# drop the column Price and assign this new table to cones_without_price\n",
    "# print cones_without_price\n",
    "cones_without_price = cones.drop('Price')\n",
    "cones_without_price"
   ]
  },
  {
   "cell_type": "code",
   "execution_count": 55,
   "metadata": {
    "scrolled": true
   },
   "outputs": [
    {
     "data": {
      "text/html": [
       "<table border=\"1\" class=\"dataframe\">\n",
       "    <thead>\n",
       "        <tr>\n",
       "            <th>Flavor</th> <th>Color</th> <th>Price</th>\n",
       "        </tr>\n",
       "    </thead>\n",
       "    <tbody>\n",
       "        <tr>\n",
       "            <td>chocolate</td> <td>light brown</td> <td>4.75 </td>\n",
       "        </tr>\n",
       "        <tr>\n",
       "            <td>chocolate</td> <td>dark brown </td> <td>5.25 </td>\n",
       "        </tr>\n",
       "        <tr>\n",
       "            <td>chocolate</td> <td>dark brown </td> <td>5.25 </td>\n",
       "        </tr>\n",
       "    </tbody>\n",
       "</table>"
      ],
      "text/plain": [
       "Flavor    | Color       | Price\n",
       "chocolate | light brown | 4.75\n",
       "chocolate | dark brown  | 5.25\n",
       "chocolate | dark brown  | 5.25"
      ]
     },
     "execution_count": 55,
     "metadata": {},
     "output_type": "execute_result"
    }
   ],
   "source": [
    "# display only rows where the flavor is chocolate\n",
    "cones.where('Flavor', 'chocolate')"
   ]
  },
  {
   "cell_type": "code",
   "execution_count": 56,
   "metadata": {},
   "outputs": [
    {
     "data": {
      "text/html": [
       "<table border=\"1\" class=\"dataframe\">\n",
       "    <thead>\n",
       "        <tr>\n",
       "            <th>Flavor</th> <th>Color</th> <th>Price</th>\n",
       "        </tr>\n",
       "    </thead>\n",
       "    <tbody>\n",
       "        <tr>\n",
       "            <td>strawberry</td> <td>pink       </td> <td>3.55 </td>\n",
       "        </tr>\n",
       "        <tr>\n",
       "            <td>chocolate </td> <td>light brown</td> <td>4.75 </td>\n",
       "        </tr>\n",
       "        <tr>\n",
       "            <td>bubblegum </td> <td>pink       </td> <td>4.75 </td>\n",
       "        </tr>\n",
       "        <tr>\n",
       "            <td>chocolate </td> <td>dark brown </td> <td>5.25 </td>\n",
       "        </tr>\n",
       "        <tr>\n",
       "            <td>strawberry</td> <td>pink       </td> <td>5.25 </td>\n",
       "        </tr>\n",
       "        <tr>\n",
       "            <td>chocolate </td> <td>dark brown </td> <td>5.25 </td>\n",
       "        </tr>\n",
       "    </tbody>\n",
       "</table>"
      ],
      "text/plain": [
       "Flavor     | Color       | Price\n",
       "strawberry | pink        | 3.55\n",
       "chocolate  | light brown | 4.75\n",
       "bubblegum  | pink        | 4.75\n",
       "chocolate  | dark brown  | 5.25\n",
       "strawberry | pink        | 5.25\n",
       "chocolate  | dark brown  | 5.25"
      ]
     },
     "execution_count": 56,
     "metadata": {},
     "output_type": "execute_result"
    }
   ],
   "source": [
    "# sort the table by price\n",
    "cones.sort('Price')"
   ]
  },
  {
   "cell_type": "code",
   "execution_count": 57,
   "metadata": {
    "scrolled": true
   },
   "outputs": [
    {
     "data": {
      "text/html": [
       "<table border=\"1\" class=\"dataframe\">\n",
       "    <thead>\n",
       "        <tr>\n",
       "            <th>Flavor</th> <th>Color</th> <th>Price</th>\n",
       "        </tr>\n",
       "    </thead>\n",
       "    <tbody>\n",
       "        <tr>\n",
       "            <td>chocolate </td> <td>dark brown </td> <td>5.25 </td>\n",
       "        </tr>\n",
       "        <tr>\n",
       "            <td>strawberry</td> <td>pink       </td> <td>5.25 </td>\n",
       "        </tr>\n",
       "        <tr>\n",
       "            <td>chocolate </td> <td>dark brown </td> <td>5.25 </td>\n",
       "        </tr>\n",
       "        <tr>\n",
       "            <td>chocolate </td> <td>light brown</td> <td>4.75 </td>\n",
       "        </tr>\n",
       "        <tr>\n",
       "            <td>bubblegum </td> <td>pink       </td> <td>4.75 </td>\n",
       "        </tr>\n",
       "        <tr>\n",
       "            <td>strawberry</td> <td>pink       </td> <td>3.55 </td>\n",
       "        </tr>\n",
       "    </tbody>\n",
       "</table>"
      ],
      "text/plain": [
       "Flavor     | Color       | Price\n",
       "chocolate  | dark brown  | 5.25\n",
       "strawberry | pink        | 5.25\n",
       "chocolate  | dark brown  | 5.25\n",
       "chocolate  | light brown | 4.75\n",
       "bubblegum  | pink        | 4.75\n",
       "strawberry | pink        | 3.55"
      ]
     },
     "execution_count": 57,
     "metadata": {},
     "output_type": "execute_result"
    }
   ],
   "source": [
    "# sort the table to show the highest price at the top\n",
    "cones.sort('Price', descending = True)"
   ]
  },
  {
   "cell_type": "code",
   "execution_count": 58,
   "metadata": {},
   "outputs": [
    {
     "data": {
      "text/html": [
       "<table border=\"1\" class=\"dataframe\">\n",
       "    <thead>\n",
       "        <tr>\n",
       "            <th>Price</th>\n",
       "        </tr>\n",
       "    </thead>\n",
       "    <tbody>\n",
       "        <tr>\n",
       "            <td>3.55 </td>\n",
       "        </tr>\n",
       "        <tr>\n",
       "            <td>4.75 </td>\n",
       "        </tr>\n",
       "        <tr>\n",
       "            <td>5.25 </td>\n",
       "        </tr>\n",
       "        <tr>\n",
       "            <td>5.25 </td>\n",
       "        </tr>\n",
       "        <tr>\n",
       "            <td>5.25 </td>\n",
       "        </tr>\n",
       "        <tr>\n",
       "            <td>4.75 </td>\n",
       "        </tr>\n",
       "    </tbody>\n",
       "</table>"
      ],
      "text/plain": [
       "Price\n",
       "3.55\n",
       "4.75\n",
       "5.25\n",
       "5.25\n",
       "5.25\n",
       "4.75"
      ]
     },
     "execution_count": 58,
     "metadata": {},
     "output_type": "execute_result"
    }
   ],
   "source": [
    "# assign the table that only displays the price to \"a\"\n",
    "# print \"a\" (NOTE: do not use the quotes, only the letter)\n",
    "a = cones.select('Price')\n",
    "a"
   ]
  },
  {
   "cell_type": "code",
   "execution_count": 59,
   "metadata": {},
   "outputs": [
    {
     "data": {
      "text/html": [
       "<table border=\"1\" class=\"dataframe\">\n",
       "    <thead>\n",
       "        <tr>\n",
       "            <th>Flavor</th> <th>Color</th> <th>Price</th>\n",
       "        </tr>\n",
       "    </thead>\n",
       "    <tbody>\n",
       "        <tr>\n",
       "            <td>strawberry</td> <td>pink       </td> <td>3.55 </td>\n",
       "        </tr>\n",
       "        <tr>\n",
       "            <td>strawberry</td> <td>pink       </td> <td>5.25 </td>\n",
       "        </tr>\n",
       "        <tr>\n",
       "            <td>chocolate </td> <td>light brown</td> <td>4.75 </td>\n",
       "        </tr>\n",
       "        <tr>\n",
       "            <td>chocolate </td> <td>dark brown </td> <td>5.25 </td>\n",
       "        </tr>\n",
       "        <tr>\n",
       "            <td>chocolate </td> <td>dark brown </td> <td>5.25 </td>\n",
       "        </tr>\n",
       "        <tr>\n",
       "            <td>bubblegum </td> <td>pink       </td> <td>4.75 </td>\n",
       "        </tr>\n",
       "    </tbody>\n",
       "</table>"
      ],
      "text/plain": [
       "Flavor     | Color       | Price\n",
       "strawberry | pink        | 3.55\n",
       "strawberry | pink        | 5.25\n",
       "chocolate  | light brown | 4.75\n",
       "chocolate  | dark brown  | 5.25\n",
       "chocolate  | dark brown  | 5.25\n",
       "bubblegum  | pink        | 4.75"
      ]
     },
     "execution_count": 59,
     "metadata": {},
     "output_type": "execute_result"
    }
   ],
   "source": [
    "cones.sort('Flavor', descending=True)"
   ]
  },
  {
   "cell_type": "markdown",
   "metadata": {},
   "source": [
    "### A more interesting table"
   ]
  },
  {
   "cell_type": "code",
   "execution_count": 60,
   "metadata": {},
   "outputs": [
    {
     "data": {
      "text/html": [
       "<table border=\"1\" class=\"dataframe\">\n",
       "    <thead>\n",
       "        <tr>\n",
       "            <th>name</th> <th>material</th> <th>city</th> <th>height</th> <th>completed</th>\n",
       "        </tr>\n",
       "    </thead>\n",
       "    <tbody>\n",
       "        <tr>\n",
       "            <td>One World Trade Center           </td> <td>composite</td> <td>New York City</td> <td>541.3 </td> <td>2014     </td>\n",
       "        </tr>\n",
       "        <tr>\n",
       "            <td>Willis Tower                     </td> <td>steel    </td> <td>Chicago      </td> <td>442.14</td> <td>1974     </td>\n",
       "        </tr>\n",
       "        <tr>\n",
       "            <td>432 Park Avenue                  </td> <td>concrete </td> <td>New York City</td> <td>425.5 </td> <td>2015     </td>\n",
       "        </tr>\n",
       "        <tr>\n",
       "            <td>Trump International Hotel & Tower</td> <td>concrete </td> <td>Chicago      </td> <td>423.22</td> <td>2009     </td>\n",
       "        </tr>\n",
       "        <tr>\n",
       "            <td>Empire State Building            </td> <td>steel    </td> <td>New York City</td> <td>381   </td> <td>1931     </td>\n",
       "        </tr>\n",
       "        <tr>\n",
       "            <td>Bank of America Tower            </td> <td>composite</td> <td>New York City</td> <td>365.8 </td> <td>2009     </td>\n",
       "        </tr>\n",
       "        <tr>\n",
       "            <td>Stratosphere Tower               </td> <td>concrete </td> <td>Las Vegas    </td> <td>350.22</td> <td>1996     </td>\n",
       "        </tr>\n",
       "        <tr>\n",
       "            <td>Aon Center                       </td> <td>steel    </td> <td>Chicago      </td> <td>346.26</td> <td>1973     </td>\n",
       "        </tr>\n",
       "        <tr>\n",
       "            <td>John Hancock Center              </td> <td>steel    </td> <td>Chicago      </td> <td>343.69</td> <td>1969     </td>\n",
       "        </tr>\n",
       "        <tr>\n",
       "            <td>WITI TV Tower                    </td> <td>steel    </td> <td>Shorewood    </td> <td>329   </td> <td>1962     </td>\n",
       "        </tr>\n",
       "    </tbody>\n",
       "</table>\n",
       "<p>... (190 rows omitted)</p>"
      ],
      "text/plain": [
       "name                              | material  | city          | height | completed\n",
       "One World Trade Center            | composite | New York City | 541.3  | 2014\n",
       "Willis Tower                      | steel     | Chicago       | 442.14 | 1974\n",
       "432 Park Avenue                   | concrete  | New York City | 425.5  | 2015\n",
       "Trump International Hotel & Tower | concrete  | Chicago       | 423.22 | 2009\n",
       "Empire State Building             | steel     | New York City | 381    | 1931\n",
       "Bank of America Tower             | composite | New York City | 365.8  | 2009\n",
       "Stratosphere Tower                | concrete  | Las Vegas     | 350.22 | 1996\n",
       "Aon Center                        | steel     | Chicago       | 346.26 | 1973\n",
       "John Hancock Center               | steel     | Chicago       | 343.69 | 1969\n",
       "WITI TV Tower                     | steel     | Shorewood     | 329    | 1962\n",
       "... (190 rows omitted)"
      ]
     },
     "execution_count": 60,
     "metadata": {},
     "output_type": "execute_result"
    }
   ],
   "source": [
    "# reading in a file and assigning it to skyscrapers\n",
    "skyscrapers = Table.read_table('data/skyscrapers.csv')\n",
    "skyscrapers"
   ]
  },
  {
   "cell_type": "code",
   "execution_count": 61,
   "metadata": {},
   "outputs": [
    {
     "data": {
      "text/html": [
       "<table border=\"1\" class=\"dataframe\">\n",
       "    <thead>\n",
       "        <tr>\n",
       "            <th>name</th> <th>material</th> <th>city</th> <th>height</th> <th>completed</th>\n",
       "        </tr>\n",
       "    </thead>\n",
       "    <tbody>\n",
       "        <tr>\n",
       "            <td>Bank of America Corporate Center</td> <td>concrete      </td> <td>Charlotte</td> <td>265.48</td> <td>1992     </td>\n",
       "        </tr>\n",
       "        <tr>\n",
       "            <td>Duke Energy Center              </td> <td>concrete/steel</td> <td>Charlotte</td> <td>239.7 </td> <td>2010     </td>\n",
       "        </tr>\n",
       "        <tr>\n",
       "            <td>Hearst Tower                    </td> <td>steel/concrete</td> <td>Charlotte</td> <td>200.81</td> <td>2002     </td>\n",
       "        </tr>\n",
       "    </tbody>\n",
       "</table>"
      ],
      "text/plain": [
       "name                             | material       | city      | height | completed\n",
       "Bank of America Corporate Center | concrete       | Charlotte | 265.48 | 1992\n",
       "Duke Energy Center               | concrete/steel | Charlotte | 239.7  | 2010\n",
       "Hearst Tower                     | steel/concrete | Charlotte | 200.81 | 2002"
      ]
     },
     "execution_count": 61,
     "metadata": {},
     "output_type": "execute_result"
    }
   ],
   "source": [
    "# display skyscrapers that are located in Charlotte\n",
    "skyscrapers.where('city', 'Charlotte')"
   ]
  },
  {
   "cell_type": "code",
   "execution_count": 62,
   "metadata": {},
   "outputs": [
    {
     "data": {
      "text/html": [
       "<table border=\"1\" class=\"dataframe\">\n",
       "    <thead>\n",
       "        <tr>\n",
       "            <th>name</th> <th>material</th> <th>city</th> <th>height</th> <th>completed</th>\n",
       "        </tr>\n",
       "    </thead>\n",
       "    <tbody>\n",
       "        <tr>\n",
       "            <td>Empire State Building</td> <td>steel   </td> <td>New York City</td> <td>381   </td> <td>1931     </td>\n",
       "        </tr>\n",
       "    </tbody>\n",
       "</table>"
      ],
      "text/plain": [
       "name                  | material | city          | height | completed\n",
       "Empire State Building | steel    | New York City | 381    | 1931"
      ]
     },
     "execution_count": 62,
     "metadata": {},
     "output_type": "execute_result"
    }
   ],
   "source": [
    "# display information about only the Empire State Building\n",
    "skyscrapers.where('name', 'Empire State Building')"
   ]
  },
  {
   "cell_type": "code",
   "execution_count": 64,
   "metadata": {},
   "outputs": [
    {
     "data": {
      "text/html": [
       "<table border=\"1\" class=\"dataframe\">\n",
       "    <thead>\n",
       "        <tr>\n",
       "            <th>name</th> <th>material</th> <th>city</th> <th>height</th> <th>completed</th>\n",
       "        </tr>\n",
       "    </thead>\n",
       "    <tbody>\n",
       "        <tr>\n",
       "            <td>Metropolitan Life Tower</td> <td>steel   </td> <td>New York City</td> <td>213.36</td> <td>1909     </td>\n",
       "        </tr>\n",
       "        <tr>\n",
       "            <td>Woolworth Building     </td> <td>steel   </td> <td>New York City</td> <td>241.4 </td> <td>1913     </td>\n",
       "        </tr>\n",
       "        <tr>\n",
       "            <td>Chanin Building        </td> <td>steel   </td> <td>New York City</td> <td>197.8 </td> <td>1929     </td>\n",
       "        </tr>\n",
       "        <tr>\n",
       "            <td>Mercantile Building    </td> <td>steel   </td> <td>New York City</td> <td>192.6 </td> <td>1929     </td>\n",
       "        </tr>\n",
       "        <tr>\n",
       "            <td>Chrysler Building      </td> <td>steel   </td> <td>New York City</td> <td>318.9 </td> <td>1930     </td>\n",
       "        </tr>\n",
       "        <tr>\n",
       "            <td>The Trump Building     </td> <td>steel   </td> <td>New York City</td> <td>282.55</td> <td>1930     </td>\n",
       "        </tr>\n",
       "        <tr>\n",
       "            <td>One Grand Central Place</td> <td>steel   </td> <td>New York City</td> <td>205.13</td> <td>1930     </td>\n",
       "        </tr>\n",
       "        <tr>\n",
       "            <td>Empire State Building  </td> <td>steel   </td> <td>New York City</td> <td>381   </td> <td>1931     </td>\n",
       "        </tr>\n",
       "        <tr>\n",
       "            <td>Twenty Exchange        </td> <td>steel   </td> <td>New York City</td> <td>225.86</td> <td>1931     </td>\n",
       "        </tr>\n",
       "        <tr>\n",
       "            <td>500 Fifth Avenue       </td> <td>steel   </td> <td>New York City</td> <td>212.45</td> <td>1931     </td>\n",
       "        </tr>\n",
       "    </tbody>\n",
       "</table>\n",
       "<p>... (63 rows omitted)</p>"
      ],
      "text/plain": [
       "name                    | material | city          | height | completed\n",
       "Metropolitan Life Tower | steel    | New York City | 213.36 | 1909\n",
       "Woolworth Building      | steel    | New York City | 241.4  | 1913\n",
       "Chanin Building         | steel    | New York City | 197.8  | 1929\n",
       "Mercantile Building     | steel    | New York City | 192.6  | 1929\n",
       "Chrysler Building       | steel    | New York City | 318.9  | 1930\n",
       "The Trump Building      | steel    | New York City | 282.55 | 1930\n",
       "One Grand Central Place | steel    | New York City | 205.13 | 1930\n",
       "Empire State Building   | steel    | New York City | 381    | 1931\n",
       "Twenty Exchange         | steel    | New York City | 225.86 | 1931\n",
       "500 Fifth Avenue        | steel    | New York City | 212.45 | 1931\n",
       "... (63 rows omitted)"
      ]
     },
     "execution_count": 64,
     "metadata": {},
     "output_type": "execute_result"
    }
   ],
   "source": [
    "# display skyscrapers in New York City and sort by the oldest COMPLETED first\n",
    "skyscrapers.where('city', 'New York City').sort('completed')"
   ]
  },
  {
   "cell_type": "code",
   "execution_count": 65,
   "metadata": {},
   "outputs": [
    {
     "data": {
      "text/html": [
       "<table border=\"1\" class=\"dataframe\">\n",
       "    <thead>\n",
       "        <tr>\n",
       "            <th>name</th> <th>material</th> <th>city</th> <th>height</th> <th>completed</th>\n",
       "        </tr>\n",
       "    </thead>\n",
       "    <tbody>\n",
       "        <tr>\n",
       "            <td>432 Park Avenue                                 </td> <td>concrete      </td> <td>New York City</td> <td>425.5 </td> <td>2015     </td>\n",
       "        </tr>\n",
       "        <tr>\n",
       "            <td>Sky                                             </td> <td>concrete      </td> <td>New York City</td> <td>206   </td> <td>2015     </td>\n",
       "        </tr>\n",
       "        <tr>\n",
       "            <td>One World Trade Center                          </td> <td>composite     </td> <td>New York City</td> <td>541.3 </td> <td>2014     </td>\n",
       "        </tr>\n",
       "        <tr>\n",
       "            <td>One57                                           </td> <td>steel/concrete</td> <td>New York City</td> <td>306.07</td> <td>2014     </td>\n",
       "        </tr>\n",
       "        <tr>\n",
       "            <td>4 World Trade Center                            </td> <td>composite     </td> <td>New York City</td> <td>297.73</td> <td>2014     </td>\n",
       "        </tr>\n",
       "        <tr>\n",
       "            <td>Courtyard & Residence Inn Manhattan/Central Park</td> <td>concrete      </td> <td>New York City</td> <td>229.62</td> <td>2013     </td>\n",
       "        </tr>\n",
       "        <tr>\n",
       "            <td>Eight Spruce Street                             </td> <td>concrete      </td> <td>New York City</td> <td>265.18</td> <td>2011     </td>\n",
       "        </tr>\n",
       "        <tr>\n",
       "            <td>1 MiMA Tower                                    </td> <td>concrete      </td> <td>New York City</td> <td>194.55</td> <td>2011     </td>\n",
       "        </tr>\n",
       "        <tr>\n",
       "            <td>Goldman Sachs Headquarters                      </td> <td>steel         </td> <td>New York City</td> <td>228.3 </td> <td>2010     </td>\n",
       "        </tr>\n",
       "        <tr>\n",
       "            <td>Langham Place                                   </td> <td>concrete      </td> <td>New York City</td> <td>192.58</td> <td>2010     </td>\n",
       "        </tr>\n",
       "    </tbody>\n",
       "</table>\n",
       "<p>... (63 rows omitted)</p>"
      ],
      "text/plain": [
       "name                                             | material       | city          | height | completed\n",
       "432 Park Avenue                                  | concrete       | New York City | 425.5  | 2015\n",
       "Sky                                              | concrete       | New York City | 206    | 2015\n",
       "One World Trade Center                           | composite      | New York City | 541.3  | 2014\n",
       "One57                                            | steel/concrete | New York City | 306.07 | 2014\n",
       "4 World Trade Center                             | composite      | New York City | 297.73 | 2014\n",
       "Courtyard & Residence Inn Manhattan/Central Park | concrete       | New York City | 229.62 | 2013\n",
       "Eight Spruce Street                              | concrete       | New York City | 265.18 | 2011\n",
       "1 MiMA Tower                                     | concrete       | New York City | 194.55 | 2011\n",
       "Goldman Sachs Headquarters                       | steel          | New York City | 228.3  | 2010\n",
       "Langham Place                                    | concrete       | New York City | 192.58 | 2010\n",
       "... (63 rows omitted)"
      ]
     },
     "execution_count": 65,
     "metadata": {},
     "output_type": "execute_result"
    }
   ],
   "source": [
    "# display skyscrapers in New York City and sort by the newest COMPLETED first\n",
    "skyscrapers.where('city', 'New York City').sort('completed', descending = True)"
   ]
  },
  {
   "cell_type": "code",
   "execution_count": 66,
   "metadata": {},
   "outputs": [
    {
     "data": {
      "text/html": [
       "<table border=\"1\" class=\"dataframe\">\n",
       "    <thead>\n",
       "        <tr>\n",
       "            <th>name</th> <th>material</th> <th>city</th> <th>height</th> <th>completed</th>\n",
       "        </tr>\n",
       "    </thead>\n",
       "    <tbody>\n",
       "        <tr>\n",
       "            <td>One World Trade Center           </td> <td>composite</td> <td>New York City</td> <td>541.3 </td> <td>2014     </td>\n",
       "        </tr>\n",
       "        <tr>\n",
       "            <td>Willis Tower                     </td> <td>steel    </td> <td>Chicago      </td> <td>442.14</td> <td>1974     </td>\n",
       "        </tr>\n",
       "        <tr>\n",
       "            <td>432 Park Avenue                  </td> <td>concrete </td> <td>New York City</td> <td>425.5 </td> <td>2015     </td>\n",
       "        </tr>\n",
       "        <tr>\n",
       "            <td>Trump International Hotel & Tower</td> <td>concrete </td> <td>Chicago      </td> <td>423.22</td> <td>2009     </td>\n",
       "        </tr>\n",
       "        <tr>\n",
       "            <td>Empire State Building            </td> <td>steel    </td> <td>New York City</td> <td>381   </td> <td>1931     </td>\n",
       "        </tr>\n",
       "        <tr>\n",
       "            <td>Bank of America Tower            </td> <td>composite</td> <td>New York City</td> <td>365.8 </td> <td>2009     </td>\n",
       "        </tr>\n",
       "        <tr>\n",
       "            <td>Stratosphere Tower               </td> <td>concrete </td> <td>Las Vegas    </td> <td>350.22</td> <td>1996     </td>\n",
       "        </tr>\n",
       "        <tr>\n",
       "            <td>Aon Center                       </td> <td>steel    </td> <td>Chicago      </td> <td>346.26</td> <td>1973     </td>\n",
       "        </tr>\n",
       "        <tr>\n",
       "            <td>John Hancock Center              </td> <td>steel    </td> <td>Chicago      </td> <td>343.69</td> <td>1969     </td>\n",
       "        </tr>\n",
       "        <tr>\n",
       "            <td>WITI TV Tower                    </td> <td>steel    </td> <td>Shorewood    </td> <td>329   </td> <td>1962     </td>\n",
       "        </tr>\n",
       "    </tbody>\n",
       "</table>\n",
       "<p>... (190 rows omitted)</p>"
      ],
      "text/plain": [
       "name                              | material  | city          | height | completed\n",
       "One World Trade Center            | composite | New York City | 541.3  | 2014\n",
       "Willis Tower                      | steel     | Chicago       | 442.14 | 1974\n",
       "432 Park Avenue                   | concrete  | New York City | 425.5  | 2015\n",
       "Trump International Hotel & Tower | concrete  | Chicago       | 423.22 | 2009\n",
       "Empire State Building             | steel     | New York City | 381    | 1931\n",
       "Bank of America Tower             | composite | New York City | 365.8  | 2009\n",
       "Stratosphere Tower                | concrete  | Las Vegas     | 350.22 | 1996\n",
       "Aon Center                        | steel     | Chicago       | 346.26 | 1973\n",
       "John Hancock Center               | steel     | Chicago       | 343.69 | 1969\n",
       "WITI TV Tower                     | steel     | Shorewood     | 329    | 1962\n",
       "... (190 rows omitted)"
      ]
     },
     "execution_count": 66,
     "metadata": {},
     "output_type": "execute_result"
    }
   ],
   "source": [
    "# display the skyscrapers in order, starting with the tallest\n",
    "skyscrapers.sort('height', descending = True)"
   ]
  },
  {
   "cell_type": "code",
   "execution_count": null,
   "metadata": {},
   "outputs": [],
   "source": []
  }
 ],
 "metadata": {
  "anaconda-cloud": {},
  "kernelspec": {
   "display_name": "Python 3 (ipykernel)",
   "language": "python",
   "name": "python3"
  },
  "language_info": {
   "codemirror_mode": {
    "name": "ipython",
    "version": 3
   },
   "file_extension": ".py",
   "mimetype": "text/x-python",
   "name": "python",
   "nbconvert_exporter": "python",
   "pygments_lexer": "ipython3",
   "version": "3.10.5"
  }
 },
 "nbformat": 4,
 "nbformat_minor": 4
}
